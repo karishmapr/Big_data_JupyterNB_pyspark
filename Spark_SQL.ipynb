{
 "cells": [
  {
   "cell_type": "markdown",
   "metadata": {},
   "source": [
    "Before you submit your work on Blackboard, make sure everything runs as expected. First, **restart the kernel** (in the menubar, select Kernel$\\rightarrow$Restart) and then **run all cells** (in the menubar, select Cell$\\rightarrow$Run All).\n",
    "\n",
    "Make sure you fill in any place that says `YOUR CODE HERE` or \"YOUR ANSWER HERE\", as well as your name, student id (including the '@'), and the names of the other people in your group in the collaborators field (different names should be separated by semicolons ';') below:"
   ]
  },
  {
   "cell_type": "code",
   "execution_count": 1,
   "metadata": {},
   "outputs": [],
   "source": [
    "NAME = \"Karishma Prasad\"\n",
    "COLLABORATORS = \"\""
   ]
  },
  {
   "cell_type": "markdown",
   "metadata": {},
   "source": [
    "---\n",
    "# Spark SQL"
   ]
  },
  {
   "cell_type": "markdown",
   "metadata": {},
   "source": [
    "We will use the historical World cup player dataset (available alongside this notebook from Blackboard) which is in JSON format. You should run this notebook on your VM, and it is expected that you will place this file on the local system in `/home/cloudera/Downloads/`. First we will check that you're running on the VM."
   ]
  },
  {
   "cell_type": "code",
   "execution_count": 2,
   "metadata": {},
   "outputs": [],
   "source": [
    "assert sc.version == \"1.6.0\", \"This notebook must be run on the VM (use of Spark 1.x is assumed)\""
   ]
  },
  {
   "cell_type": "markdown",
   "metadata": {},
   "source": [
    "Now we need to do some imports to have access to the SQL context."
   ]
  },
  {
   "cell_type": "code",
   "execution_count": 3,
   "metadata": {
    "deletable": false,
    "editable": false,
    "nbgrader": {
     "cell_type": "code",
     "checksum": "f16f4a6a483c134173879a8e4bab5106",
     "grade": true,
     "grade_id": "test_imports",
     "locked": true,
     "points": 0,
     "schema_version": 3,
     "solution": false,
     "task": false
    }
   },
   "outputs": [],
   "source": [
    "from pyspark.sql import SQLContext\n",
    "sqlCtx = SQLContext(sc)"
   ]
  },
  {
   "cell_type": "markdown",
   "metadata": {},
   "source": [
    "The cell below reads the data into a dataframe named `playersDF`."
   ]
  },
  {
   "cell_type": "code",
   "execution_count": 4,
   "metadata": {},
   "outputs": [],
   "source": [
    "assert os.path.exists('/home/cloudera/Downloads/all-world-cup-players.json'), \"You need to download the all-world-cup-players.json file into the /home/cloudera/Downloads directory on your VM\"\n",
    "\n",
    "# Reformat the JSON for Spark 1.x (which assumes one JSON record per line)\n",
    "import json\n",
    "\n",
    "if os.path.exists('/home/cloudera/Downloads/all-world-cup-players.reformat.json'):\n",
    "    os.remove('/home/cloudera/Downloads/all-world-cup-players.reformat.json')\n",
    "\n",
    "with open('/home/cloudera/Downloads/all-world-cup-players.json') as jsonfile:\n",
    "    js = json.load(jsonfile)\n",
    "    \n",
    "with open('/home/cloudera/Downloads/all-world-cup-players.reformat.json', 'w') as outfile:\n",
    "    for record in js:\n",
    "        json.dump(record,outfile)\n",
    "        outfile.write('\\n')\n",
    "    \n",
    "# Now read the reformatted data in  \n",
    "playersDF = sqlCtx.read.json('file:/home/cloudera/Downloads/all-world-cup-players.reformat.json')\n",
    "\n",
    "assert playersDF.count() == 9443, \"Something has gone wrong with the reading process\""
   ]
  },
  {
   "cell_type": "markdown",
   "metadata": {},
   "source": [
    "We will now explore three different ways to extract the same information from the data. \n",
    "1. Via DataFrames directly\n",
    "2. Via Views\n",
    "3. Via RDDs\n",
    "\n",
    "Let's start with the DataFrames. Use DataFrame operations to extact `teamNamesFromDF` to extract all the team names from 2014 (only). (You may want to look at the DataFrame you have read in first.)"
   ]
  },
  {
   "cell_type": "code",
   "execution_count": 5,
   "metadata": {
    "deletable": false,
    "nbgrader": {
     "cell_type": "code",
     "checksum": "e770b3adabadec6fdbfdfa8f1bb39e5d",
     "grade": false,
     "grade_id": "teamNamesFromDF",
     "locked": false,
     "schema_version": 3,
     "solution": true,
     "task": false
    }
   },
   "outputs": [
    {
     "data": {
      "text/plain": [
       "<bound method DataFrame.printSchema of DataFrame[Club: string, ClubCountry: string, Competition: string, DateOfBirth: string, FullName: string, IsCaptain: boolean, Number: string, Position: string, Team: string, Year: bigint]>"
      ]
     },
     "execution_count": 5,
     "metadata": {},
     "output_type": "execute_result"
    }
   ],
   "source": [
    "# ----------------------------------------------\n",
    "# 1.a Checking the Schema of the dataframe \n",
    "# ----------------------------------------------\n",
    "playersDF.printSchema\n",
    "\n",
    "#raise NotImplementedError()"
   ]
  },
  {
   "cell_type": "code",
   "execution_count": 6,
   "metadata": {},
   "outputs": [
    {
     "name": "stdout",
     "output_type": "stream",
     "text": [
      "+--------------------+-----------+-----------+-----------+-----------------+---------+------+--------+---------+----+\n",
      "|                Club|ClubCountry|Competition|DateOfBirth|         FullName|IsCaptain|Number|Position|     Team|Year|\n",
      "+--------------------+-----------+-----------+-----------+-----------------+---------+------+--------+---------+----+\n",
      "|Club AtlÃ©tico Ta...|  Argentina|  World Cup|   1905-5-5|     Ãngel Bossio|    false|      |      GK|Argentina|1930|\n",
      "|Quilmes AtlÃ©tico...|  Argentina|  World Cup| 1908-10-23|     Juan Botasso|    false|      |      GK|Argentina|1930|\n",
      "|          Boca Junio|  Argentina|  World Cup|  1907-2-23|   Roberto Cherro|    false|      |      FW|Argentina|1930|\n",
      "|Central Norte TucumÃ|  Argentina|  World Cup|  1907-2-23|Alberto Chividini|    false|      |      DF|Argentina|1930|\n",
      "|Club Atletico Est...|  Argentina|  World Cup|  1909-3-19|                 |    false|    10|      FW|Argentina|1930|\n",
      "+--------------------+-----------+-----------+-----------+-----------------+---------+------+--------+---------+----+\n",
      "only showing top 5 rows\n",
      "\n"
     ]
    }
   ],
   "source": [
    "# ----------------------------------------------\n",
    "# 1.b. Checking the dataframe by using .show()\n",
    "# ----------------------------------------------\n",
    "playersDF.show(5)"
   ]
  },
  {
   "cell_type": "code",
   "execution_count": 7,
   "metadata": {},
   "outputs": [
    {
     "name": "stdout",
     "output_type": "stream",
     "text": [
      "+--------------------+----+\n",
      "|                Team|Year|\n",
      "+--------------------+----+\n",
      "|              Russia|2014|\n",
      "|Bosnia and Herzeg...|2014|\n",
      "+--------------------+----+\n",
      "only showing top 2 rows\n",
      "\n"
     ]
    },
    {
     "data": {
      "text/plain": [
       "32"
      ]
     },
     "execution_count": 7,
     "metadata": {},
     "output_type": "execute_result"
    }
   ],
   "source": [
    "# -----------------------------------------------------\n",
    "# 1.c. Extracting teams name from 2014 using distinct()\n",
    "# -----------------------------------------------------\n",
    "\n",
    "teamNamesFromDF = playersDF.select(\"Team\", \"Year\").where(\"Year = 2014\").distinct()\n",
    "teamNamesFromDF.show(2)     #Checking the output\n",
    "teamNamesFromDF.count()     # Number of records"
   ]
  },
  {
   "cell_type": "code",
   "execution_count": 8,
   "metadata": {
    "deletable": false,
    "editable": false,
    "nbgrader": {
     "cell_type": "code",
     "checksum": "4d317691593898480a2a962ad043e462",
     "grade": true,
     "grade_id": "test_teamNamesFromDF",
     "locked": true,
     "points": 2,
     "schema_version": 3,
     "solution": false,
     "task": false
    }
   },
   "outputs": [],
   "source": [
    "from pyspark.sql import DataFrame\n",
    "assert isinstance(teamNamesFromDF, DataFrame), \"Your answer should be a dataframe\"\n",
    "assert teamNamesFromDF.count() == 32, \"Unexpected number of teams\""
   ]
  },
  {
   "cell_type": "markdown",
   "metadata": {},
   "source": [
    "Now do the same via constructing a \"table\" called `players` from the data, using an sql query, and naming the resulting DataFrame `teamNamesFromTable`."
   ]
  },
  {
   "cell_type": "code",
   "execution_count": 9,
   "metadata": {
    "deletable": false,
    "nbgrader": {
     "cell_type": "code",
     "checksum": "9bea159a3cf62dba56cf3b4dda003ab3",
     "grade": false,
     "grade_id": "teamNamesFromTable",
     "locked": false,
     "schema_version": 3,
     "solution": true,
     "task": false
    }
   },
   "outputs": [
    {
     "name": "stdout",
     "output_type": "stream",
     "text": [
      "+--------------------+----+\n",
      "|                Team|Year|\n",
      "+--------------------+----+\n",
      "|              Russia|2014|\n",
      "|Bosnia and Herzeg...|2014|\n",
      "|       United States|2014|\n",
      "|             Germany|2014|\n",
      "|              Mexico|2014|\n",
      "|             Nigeria|2014|\n",
      "|                Iran|2014|\n",
      "|         Ivory Coast|2014|\n",
      "|         South Korea|2014|\n",
      "|              Brazil|2014|\n",
      "+--------------------+----+\n",
      "only showing top 10 rows\n",
      "\n"
     ]
    }
   ],
   "source": [
    "# -----------------------------------------------------\n",
    "# 3. Table contruction \n",
    "# -----------------------------------------------------\n",
    "playersDF.registerTempTable(\"players\")        # Creating table called 'players'\n",
    "'players' in sqlCtx.tableNames()              # To check if the table exists\n",
    "teamNamesFromTable = sqlCtx.sql(\"\"\"                    \n",
    "                           SELECT DISTINCT Team,Year\n",
    "                           FROM players             \n",
    "                           WHERE Year=2014\n",
    "                           \"\"\")                # SQL query to get distinct team names of year 2014\n",
    "teamNamesFromTable.show(10)"
   ]
  },
  {
   "cell_type": "code",
   "execution_count": 10,
   "metadata": {
    "deletable": false,
    "editable": false,
    "nbgrader": {
     "cell_type": "code",
     "checksum": "00441251fbafb926187fc77992af015d",
     "grade": true,
     "grade_id": "test_teamNamesFromTable",
     "locked": true,
     "points": 2,
     "schema_version": 3,
     "solution": false,
     "task": false
    }
   },
   "outputs": [],
   "source": [
    "# Check the table was created\n",
    "assert ('players' in sqlCtx.tableNames()), \"You have either not created your table or you have named it something other than players\"\n",
    "assert teamNamesFromTable.count() == 32, \"Unexpected number of teams\""
   ]
  },
  {
   "cell_type": "markdown",
   "metadata": {},
   "source": [
    "Your third implementation should go via RDDs: i.e. you'll need to create a (Row) RDD from the data, perform `.map`, `.filter` etc operations to obtain an RDD wthe same result using RDDs. Your resulting RDD should be named teamNamesFromRDD."
   ]
  },
  {
   "cell_type": "code",
   "execution_count": 11,
   "metadata": {
    "deletable": false,
    "nbgrader": {
     "cell_type": "code",
     "checksum": "262d8c73a85627346e4a3f4ef83b0219",
     "grade": false,
     "grade_id": "teamNamesFromRDD",
     "locked": false,
     "schema_version": 3,
     "solution": true,
     "task": false
    }
   },
   "outputs": [
    {
     "data": {
      "text/plain": [
       "[Row(Club=u'Club Atl\\xc3\\xa9tico Talleres de Remedios de Escalada', ClubCountry=u'Argentina', Competition=u'World Cup', DateOfBirth=u'1905-5-5', FullName=u'\\xc3ngel Bossio', IsCaptain=False, Number=u'', Position=u'GK', Team=u'Argentina', Year=1930),\n",
       " Row(Club=u'Quilmes Atl\\xc3\\xa9tico Club', ClubCountry=u'Argentina', Competition=u'World Cup', DateOfBirth=u'1908-10-23', FullName=u'Juan Botasso', IsCaptain=False, Number=u'', Position=u'GK', Team=u'Argentina', Year=1930)]"
      ]
     },
     "execution_count": 11,
     "metadata": {},
     "output_type": "execute_result"
    }
   ],
   "source": [
    "# -----------------------------------------------------\n",
    "# 3.a. Converting Data frame to RDD\n",
    "# -----------------------------------------------------\n",
    "myRDD = playersDF.rdd     # Converion of Dataframe to RDD\n",
    "myRDD.take(2)             # Checking the output using .take()\n",
    "\n",
    "#raise NotImplementedError()"
   ]
  },
  {
   "cell_type": "code",
   "execution_count": 12,
   "metadata": {},
   "outputs": [
    {
     "data": {
      "text/plain": [
       "[[u'Argentina', 1930],\n",
       " [u'Argentina', 1930],\n",
       " [u'Argentina', 1930],\n",
       " [u'Argentina', 1930],\n",
       " [u'Argentina', 1930]]"
      ]
     },
     "execution_count": 12,
     "metadata": {},
     "output_type": "execute_result"
    }
   ],
   "source": [
    "# -----------------------------------------------------\n",
    "# 3.b. Limiting RDD with team names and year extracedRDD\n",
    "# -----------------------------------------------------\n",
    "extractedRDD = myRDD.map (lambda record: [record[i] for i in [8, 9]])  #RDD with names and year\n",
    "extractedRDD.take(5)                                                "
   ]
  },
  {
   "cell_type": "code",
   "execution_count": 13,
   "metadata": {},
   "outputs": [
    {
     "data": {
      "text/plain": [
       "[u'Brazil', u'Italy']"
      ]
     },
     "execution_count": 13,
     "metadata": {},
     "output_type": "execute_result"
    }
   ],
   "source": [
    "# -----------------------------------------------------\n",
    "# 3.b. Limiting RDD with team names teamNamesFromRDD\n",
    "# -----------------------------------------------------\n",
    "filteredRDD = extractedRDD.filter(lambda keyValue: keyValue[1] == 2014) #Year = 2014\n",
    "teamNamesFromRDD = filteredRDD.keys().distinct()  # To get distinct key values\n",
    "teamNamesFromRDD.take(2)                          # Checking output                 "
   ]
  },
  {
   "cell_type": "code",
   "execution_count": 14,
   "metadata": {
    "deletable": false,
    "editable": false,
    "nbgrader": {
     "cell_type": "code",
     "checksum": "5bbb0ad43739fe3730d1ff9b89bd6e68",
     "grade": true,
     "grade_id": "test_teamNamesFromRDD",
     "locked": true,
     "points": 2,
     "schema_version": 3,
     "solution": false,
     "task": false
    }
   },
   "outputs": [],
   "source": [
    "from pyspark.rdd import RDD\n",
    "assert isinstance(teamNamesFromRDD, RDD), \"Your result should be an RDD\"\n",
    "assert teamNamesFromRDD.count() == 32, \"Unexpected number of teams\"\n",
    "\n",
    "lineage = teamNamesFromRDD.toDebugString()\n",
    "assert 'MapPartitionsRDD' in lineage, \"Did you really manage to answer this question via RDDs without a map?\""
   ]
  },
  {
   "cell_type": "code",
   "execution_count": null,
   "metadata": {},
   "outputs": [],
   "source": []
  }
 ],
 "metadata": {
  "kernelspec": {
   "display_name": "Python 2",
   "language": "python",
   "name": "python2"
  },
  "language_info": {
   "codemirror_mode": {
    "name": "ipython",
    "version": 2
   },
   "file_extension": ".py",
   "mimetype": "text/x-python",
   "name": "python",
   "nbconvert_exporter": "python",
   "pygments_lexer": "ipython2",
   "version": "2.7.16"
  }
 },
 "nbformat": 4,
 "nbformat_minor": 2
}

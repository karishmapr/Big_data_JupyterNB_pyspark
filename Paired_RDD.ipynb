  {
   "cell_type": "code",
   "execution_count": 1,
   "metadata": {},
   "outputs": [],
   "source": [
    "NAME = \"Karishma Prasad\"\n",
    "COLLABORATORS = \"\""
   ]
  },
  {
   "cell_type": "markdown",
   "metadata": {},
   "source": [
    "---"
   ]
  },
  {
   "cell_type": "markdown",
   "metadata": {},
   "source": [
    "# Paired RDDs:- Character counting\n",
    "\n",
    "In the current notebook, a function is written that takes text as input and compute its character counts (or frequencies) in Spark.\n",
    "\n",
    "The first cell downloads the files for you and checks that the downloads have succeeded. (If you have trouble running this cell, or the download fails, you should download the files in the system directly as the following command should not be re-download them once they have been retrieved.)\n",
    "\n"
   ]
  },
  {
   "cell_type": "code",
   "execution_count": 2,
   "metadata": {},
   "outputs": [
    {
     "data": {
      "text/plain": [
       "256"
      ]
     },
     "execution_count": 2,
     "metadata": {},
     "output_type": "execute_result"
    }
   ],
   "source": [
    "import os\n",
    "\n",
    "# Download the following data files to your local system\n",
    "os.system('wget -nc -O /home/cloudera/Downloads/5000-8.txt http://gutenberg.org/files/5000/5000-8.txt')\n",
    "os.system('wget -nc -O /home/cloudera/Downloads/6000-8.txt http://gutenberg.org/files/6000/6000-8.txt')\n",
    "os.system('wget -nc -O /home/cloudera/Downloads/7000-8.txt http://gutenberg.org/files/7000/7000-8.txt')"
   ]
  },
  {
   "cell_type": "code",
   "execution_count": 3,
   "metadata": {},
   "outputs": [
    {
     "name": "stdout",
     "output_type": "stream",
     "text": [
      "-rw-rw-r-- 1 cloudera cloudera 1428841 Apr  6  2015 /home/cloudera/Downloads/5000-8.txt\n",
      "-rw-rw-r-- 1 cloudera cloudera  576757 May  1  2013 /home/cloudera/Downloads/6000-8.txt\n",
      "-rw-rw-r-- 1 cloudera cloudera  636150 Sep 20  2010 /home/cloudera/Downloads/7000-8.txt\n",
      "1428775 /home/cloudera/Downloads/5000-8.txt\n",
      "573805 /home/cloudera/Downloads/6000-8.txt\n",
      "613898 /home/cloudera/Downloads/7000-8.txt\n"
     ]
    }
   ],
   "source": [
    "# ==============================\n",
    "# Verify the files are present\n",
    "# ==============================\n",
    "!ls -l /home/cloudera/Downloads/*-8.txt\n",
    "\n",
    "# ========================================\n",
    "# You should check that the file sizes are\n",
    "# ========================================\n",
    "\n",
    "# 5000-8 1428841\n",
    "! wc -m /home/cloudera/Downloads/5000-8.txt\n",
    "# 6000-8 576757\n",
    "! wc -m /home/cloudera/Downloads/6000-8.txt\n",
    "# 7000-8 636150\n",
    "! wc -m /home/cloudera/Downloads/7000-8.txt"
   ]
  },
  {
   "cell_type": "markdown",
   "metadata": {},
   "source": [
    "1. Write a function `to_lower` which takes a single line string and returns the string in lower case. So for the input \"hElLO\", `to_lower(\"hElLO\")` should return `hello`."
   ]
  },
  {
   "cell_type": "code",
   "execution_count": 4,
   "metadata": {},
   "outputs": [
    {
     "data": {
      "text/plain": [
       "[u'The Project Gutenberg EBook of The Notebooks of Leonardo Da Vinci, Complete',\n",
       " u'by Leonardo Da Vinci']"
      ]
     },
     "execution_count": 4,
     "metadata": {},
     "output_type": "execute_result"
    }
   ],
   "source": [
    "#-------------------------------------\n",
    "# 1.a. Getting text files as RDD \n",
    "#-------------------------------------\n",
    "myRDD = sc.textFile(\"file:/home/cloudera/Downloads/5000-8.txt\")\n",
    "\n",
    "#-------------------------------------\n",
    "# 1.b. Checking the output \n",
    "#-------------------------------------\n",
    "myRDD.take(2)"
   ]
  },
  {
   "cell_type": "code",
   "execution_count": 5,
   "metadata": {
    "deletable": false,
    "nbgrader": {
     "cell_type": "code",
     "checksum": "4019bbbbbc07ed2d5e72e505785d386b",
     "grade": false,
     "grade_id": "to_lower",
     "locked": false,
     "schema_version": 3,
     "solution": true,
     "task": false
    }
   },
   "outputs": [
    {
     "data": {
      "text/plain": [
       "[u'the project gutenberg ebook of the notebooks of leonardo da vinci, complete',\n",
       " u'by leonardo da vinci']"
      ]
     },
     "execution_count": 5,
     "metadata": {},
     "output_type": "execute_result"
    }
   ],
   "source": [
    "#--------------------------------------------------\n",
    "# 1.c. Creating function \"to_lower()\" :\n",
    "#--------------------------------------------------\n",
    "def to_lower(s):\n",
    "    return s.lower()\n",
    "\n",
    "#----------------------------------------------------------------------\n",
    "# 1.d. Calling the function with myRDD as input and checking the output\n",
    "#----------------------------------------------------------------------\n",
    "myRDD.map(to_lower).take(2)\n",
    "\n",
    "    #raise NotImplementedError()"
   ]
  },
  {
   "cell_type": "code",
   "execution_count": 6,
   "metadata": {
    "deletable": false,
    "editable": false,
    "nbgrader": {
     "cell_type": "code",
     "checksum": "240288ce964b4815551966a74e1f18a7",
     "grade": true,
     "grade_id": "to_lower_tests",
     "locked": true,
     "points": 1,
     "schema_version": 3,
     "solution": false,
     "task": false
    }
   },
   "outputs": [],
   "source": [
    "assert to_lower(\"hElLO WORLD!\") == \"hello world!\", 'Unexpected lower case of hello world'\n",
    "assert to_lower(\"123 RDDs\") == \"123 rdds\", \"Unexpected lower case of 123 RDDs\""
   ]
  },
  {
   "cell_type": "markdown",
   "metadata": {},
   "source": [
    "2. Write a function `to_characters` which takes a single line string and returns a list of the (non space) characters contained within it. So for the input string \"hello world\", `to_characters(\"hello world\")` should return `['h', 'e', 'l', 'l', 'o', 'w', 'o', 'r', 'l', 'd']`."
   ]
  },
  {
   "cell_type": "code",
   "execution_count": 7,
   "metadata": {
    "deletable": false,
    "nbgrader": {
     "cell_type": "code",
     "checksum": "387894be4786036405e6fcba7a28c63d",
     "grade": false,
     "grade_id": "to_characters",
     "locked": false,
     "schema_version": 3,
     "solution": true,
     "task": false
    }
   },
   "outputs": [
    {
     "data": {
      "text/plain": [
       "[[u'T',\n",
       "  u'h',\n",
       "  u'e',\n",
       "  u'P',\n",
       "  u'r',\n",
       "  u'o',\n",
       "  u'j',\n",
       "  u'e',\n",
       "  u'c',\n",
       "  u't',\n",
       "  u'G',\n",
       "  u'u',\n",
       "  u't',\n",
       "  u'e',\n",
       "  u'n',\n",
       "  u'b',\n",
       "  u'e',\n",
       "  u'r',\n",
       "  u'g',\n",
       "  u'E',\n",
       "  u'B',\n",
       "  u'o',\n",
       "  u'o',\n",
       "  u'k',\n",
       "  u'o',\n",
       "  u'f',\n",
       "  u'T',\n",
       "  u'h',\n",
       "  u'e',\n",
       "  u'N',\n",
       "  u'o',\n",
       "  u't',\n",
       "  u'e',\n",
       "  u'b',\n",
       "  u'o',\n",
       "  u'o',\n",
       "  u'k',\n",
       "  u's',\n",
       "  u'o',\n",
       "  u'f',\n",
       "  u'L',\n",
       "  u'e',\n",
       "  u'o',\n",
       "  u'n',\n",
       "  u'a',\n",
       "  u'r',\n",
       "  u'd',\n",
       "  u'o',\n",
       "  u'D',\n",
       "  u'a',\n",
       "  u'V',\n",
       "  u'i',\n",
       "  u'n',\n",
       "  u'c',\n",
       "  u'i',\n",
       "  u',',\n",
       "  u'C',\n",
       "  u'o',\n",
       "  u'm',\n",
       "  u'p',\n",
       "  u'l',\n",
       "  u'e',\n",
       "  u't',\n",
       "  u'e'],\n",
       " [u'b',\n",
       "  u'y',\n",
       "  u'L',\n",
       "  u'e',\n",
       "  u'o',\n",
       "  u'n',\n",
       "  u'a',\n",
       "  u'r',\n",
       "  u'd',\n",
       "  u'o',\n",
       "  u'D',\n",
       "  u'a',\n",
       "  u'V',\n",
       "  u'i',\n",
       "  u'n',\n",
       "  u'c',\n",
       "  u'i']]"
      ]
     },
     "execution_count": 7,
     "metadata": {},
     "output_type": "execute_result"
    }
   ],
   "source": [
    "#----------------------------------------------------------\n",
    "# 2.a. Creating function \"to_characters()\" :\n",
    "#----------------------------------------------------------\n",
    "def to_characters(s):             # Defining the function\n",
    "    new = s.replace(\" \",\"\")       # Removing space between the words\n",
    "    return [char for char in new] # returning each character using 'for'\n",
    "    \n",
    "#----------------------------------------------------------------\n",
    "# 2.b. Calling the function and checking the output using take(2)\n",
    "#----------------------------------------------------------------\n",
    "myRDD.map(to_characters).take(2)\n",
    "    \n",
    "#raise NotImplementedError()"
   ]
  },
  {
   "cell_type": "code",
   "execution_count": 8,
   "metadata": {
    "deletable": false,
    "editable": false,
    "nbgrader": {
     "cell_type": "code",
     "checksum": "c9b26b98a235b3b4d571d9c86cfe3b57",
     "grade": true,
     "grade_id": "to_characters_tests",
     "locked": true,
     "points": 1,
     "schema_version": 3,
     "solution": false,
     "task": false
    }
   },
   "outputs": [],
   "source": [
    "assert to_characters(\"hello world\") == ['h', 'e', 'l', 'l', 'o', 'w', 'o', 'r', 'l', 'd'], \"Unexpected hello world result\"\n",
    "assert to_characters(\"RDDs are fun!\") == ['R', 'D', 'D', 's', 'a', 'r', 'e', 'f', 'u', 'n', '!'], \"Unexpected RDDs are fun result\""
   ]
  },
  {
   "cell_type": "markdown",
   "metadata": {},
   "source": [
    "3. Write the function `rdd_from_file` which takes a filename as input and returns an RDD constructed by reading the lines into separate records."
   ]
  },
  {
   "cell_type": "code",
   "execution_count": 9,
   "metadata": {
    "deletable": false,
    "nbgrader": {
     "cell_type": "code",
     "checksum": "67dd292baa10e471c60fe5891c6eeb8c",
     "grade": false,
     "grade_id": "rdd_from_file",
     "locked": false,
     "schema_version": 3,
     "solution": true,
     "task": false
    }
   },
   "outputs": [],
   "source": [
    "#---------------------------------------------------------------\n",
    "# 3.a. Creating function \"rdd_from_file()\" to return new RDD :\n",
    "#---------------------------------------------------------------\n",
    "def rdd_from_file(filename):\n",
    "    newRDD = sc.textFile(filename)\n",
    "    return newRDD\n",
    "\n",
    "#----------------------------------------------\n",
    "# 3.b. Calling the function and obtaining RDDs\n",
    "#----------------------------------------------\n",
    "rdd5000 = rdd_from_file(\"file:///home/cloudera/Downloads/5000-8.txt\")\n",
    "rdd6000 = rdd_from_file(\"file:///home/cloudera/Downloads/6000-8.txt\")\n",
    "rdd7000 = rdd_from_file(\"file:///home/cloudera/Downloads/7000-8.txt\")\n",
    "\n",
    "#raise NotImplementedError()"
   ]
  },
  {
   "cell_type": "code",
   "execution_count": 10,
   "metadata": {},
   "outputs": [
    {
     "data": {
      "text/plain": [
       "[u'The Project Gutenberg EBook of The Notebooks of Leonardo Da Vinci, Complete',\n",
       " u'by Leonardo Da Vinci',\n",
       " u'(#3 in our series by Leonardo Da Vinci)',\n",
       " u'']"
      ]
     },
     "execution_count": 10,
     "metadata": {},
     "output_type": "execute_result"
    }
   ],
   "source": [
    "rdd5000.take(4)"
   ]
  },
  {
   "cell_type": "code",
   "execution_count": 11,
   "metadata": {
    "deletable": false,
    "editable": false,
    "nbgrader": {
     "cell_type": "code",
     "checksum": "f28e334fbbf66f65885ce6058694a40d",
     "grade": true,
     "grade_id": "rdd_from_file_tests",
     "locked": true,
     "points": 1,
     "schema_version": 3,
     "solution": false,
     "task": false
    }
   },
   "outputs": [],
   "source": [
    "assert rdd5000.count() == 32763, \"Something has gone wrong with either your RDD reading or the download of the 5000 file\"\n",
    "assert rdd6000.count() == 13226, \"Something has gone wrong with either your RDD reading or the download of the 6000 file\"\n",
    "assert rdd7000.count() == 23563, \"Something has gone wrong with either your RDD reading or the download of the 7000 file\""
   ]
  },
  {
   "cell_type": "markdown",
   "metadata": {},
   "source": [
    "4. Write the function `rdd_to_character_value_pair` which takes an RDD as input, lower cases it, removes spaces, splits it into characters and makes each character into a pair with the second element `1` returning a list of such pairs. So for the input \"Hello World\", `line_to_character_value_pair` should return: `[('h', 1), ('e', 1), ('l', 1), ('l', 1), ('o', 1), ('w', 1), ('o', 1), ('r', 1), ('l', 1), ('d', 1)]`\n",
    "\n",
    "This function can use the functions you have defined above (i.e. you should just need to construct pairs out of the character list returned by `to_characters`)."
   ]
  },
  {
   "cell_type": "code",
   "execution_count": 12,
   "metadata": {
    "deletable": false,
    "nbgrader": {
     "cell_type": "code",
     "checksum": "e95406e6cc3945a88d241bd4eb37bd44",
     "grade": false,
     "grade_id": "rdd_to_character_value_pairs",
     "locked": false,
     "schema_version": 3,
     "solution": true,
     "task": false
    }
   },
   "outputs": [
    {
     "data": {
      "text/plain": [
       "[(u't', 1), (u'h', 1)]"
      ]
     },
     "execution_count": 12,
     "metadata": {},
     "output_type": "execute_result"
    }
   ],
   "source": [
    "#--------------------------------------------------------\n",
    "# 4.a. Creating functions \"rdd_to_character ()\":\n",
    "#--------------------------------------------------------\n",
    "def rdd_to_character_value_pairs(rdd):  # Defining function\n",
    "    lowerCaseRDD =  rdd.map(to_lower)   # Converting to lower case by calling to_lower function\n",
    "    characterSplitRDD = lowerCaseRDD.flatMap(to_characters)    # List of characters using to_character function\n",
    "    New_RDD = characterSplitRDD.map(lambda letter: (letter,1)) # Assigning 1 as value\n",
    "    return New_RDD                      # Returning new RDD\n",
    "\n",
    "#---------------------------------------------------------------------------\n",
    "# 4.b. Calling the function and checking the output of rdd5000 using take(2)\n",
    "#---------------------------------------------------------------------------\n",
    "rdd_to_character_value_pairs(rdd5000).take(2)\n",
    "#rdd_to_character_value_pairs(rdd6000).take(2)\n",
    "#rdd_to_character_value_pairs(rdd7000).take(2)\n",
    "\n",
    "    #raise NotImplementedError()"
   ]
  },
  {
   "cell_type": "code",
   "execution_count": 13,
   "metadata": {
    "deletable": false,
    "editable": false,
    "nbgrader": {
     "cell_type": "code",
     "checksum": "97ceebb1adde94235cb1cd0324226301",
     "grade": true,
     "grade_id": "rdd_to_character_value_pairs_tests",
     "locked": true,
     "points": 1,
     "schema_version": 3,
     "solution": false,
     "task": false
    }
   },
   "outputs": [],
   "source": [
    "test_strings = [\"hello WoRld\", \"RDDs are great fun!\"]\n",
    "testRDD = sc.parallelize(test_strings)\n",
    "character_value_pairs = rdd_to_character_value_pairs(testRDD).collect()\n",
    "assert character_value_pairs == [('h', 1), ('e', 1), ('l', 1), ('l', 1), ('o', 1), ('w', 1), ('o', 1), ('r', 1), ('l', 1), ('d', 1), ('r', 1), ('d', 1), ('d', 1), ('s', 1), ('a', 1), ('r', 1), ('e', 1), ('g', 1), ('r', 1), ('e', 1), ('a', 1), ('t', 1), ('f', 1), ('u', 1), ('n', 1), ('!', 1)], \"Your function's output does not appear to match the specification\""
   ]
  },
  {
   "cell_type": "markdown",
   "metadata": {},
   "source": [
    "5. Write a function `rdd_to_character_counts` which takes an RDD as input, creates [(character, 1), .... ] lists and then adds up the 1s to get overall character counts. It should return a list of (character, value) pairs where each character occurs only once and the value represents the frequency of the character in the original RDD."
   ]
  },
  {
   "cell_type": "code",
   "execution_count": 14,
   "metadata": {
    "deletable": false,
    "nbgrader": {
     "cell_type": "code",
     "checksum": "f80cf97eac8ef308021f4c2550e45ce8",
     "grade": false,
     "grade_id": "rdd_to_character_count",
     "locked": false,
     "schema_version": 3,
     "solution": true,
     "task": false
    }
   },
   "outputs": [
    {
     "data": {
      "text/plain": [
       "[(u'\\ufffd', 66),\n",
       " (u'!', 100),\n",
       " (u'#', 2),\n",
       " (u'\"', 691),\n",
       " (u'%', 3),\n",
       " (u'$', 1),\n",
       " (u\"'\", 1135),\n",
       " (u'&', 69),\n",
       " (u')', 1447),\n",
       " (u'(', 1421)]"
      ]
     },
     "execution_count": 14,
     "metadata": {},
     "output_type": "execute_result"
    }
   ],
   "source": [
    "#--------------------------------------------------------\n",
    "# 5.a. Creating functions \"rdd_to_character_count()\":\n",
    "#--------------------------------------------------------\n",
    "def rdd_to_character_count(rdd):                # Defining the function\n",
    "    keysRDD = rdd_to_character_value_pairs(rdd) # Assigning value '1' by calling function\n",
    "    characterCount = keysRDD.reduceByKey(lambda v1,v2: v1+v2) # Adding values based on key\n",
    "    return characterCount                       # Returning a new RDD with character-frequency\n",
    "\n",
    "#---------------------------------------------------------------------------\n",
    "# 5.b. Calling the function and checking the output of rdd5000 using take(10)\n",
    "#---------------------------------------------------------------------------\n",
    "rdd_to_character_count(rdd5000).take(10)       # for rdd5000\n",
    "#rdd_to_character_count(rdd6000).take(10)      # for rdd6000\n",
    "#rdd_to_character_count(rdd7000).take(10)      # for rdd7000\n",
    "\n",
    "#raise NotImplementedError()"
   ]
  },
  {
   "cell_type": "code",
   "execution_count": null,
   "metadata": {
    "deletable": false,
    "editable": false,
    "nbgrader": {
     "cell_type": "code",
     "checksum": "21c027b55c9b1995056603f3df8fe617",
     "grade": true,
     "grade_id": "rdd_to_character_count_tests",
     "locked": true,
     "points": 1,
     "schema_version": 3,
     "solution": false,
     "task": false
    }
   },
   "outputs": [],
   "source": [
    "assert rdd_to_character_count(rdd5000).take(5) == [(u'!', 100), (u'#', 2), (u'%', 3), (u\"'\", 1135), (u')', 1447)], \"Your character counting may not be working as expected\"\n",
    "assert rdd_to_character_count(rdd6000).take(5) == [(u'!', 1110), (u'#', 1), (u'%', 1), (u\"'\", 49), (u')', 45)], \"Your character counting may not be working as expected\"\n",
    "assert rdd_to_character_count(rdd7000).take(5) == [(u'!', 1251), (u'#', 1), (u'%', 1), (u\"'\", 1363), (u')', 23)], \"Your character counting may not be working as expected\""
   ]
  },
  {
   "cell_type": "markdown",
   "metadata": {},
   "source": [
    "6. Write a function `rdd_to_ordered_character_count` which takes an RDD, and returns a list of `(character, value)` pairs where `value` represents the frequency of the `character` in the RDD presented in order of decreasing values. So for the input \"hello\", the output should be `[(l, 2), (o, 1), (h, 1), (e, 1)]`. "
   ]
  },
  {
   "cell_type": "code",
   "execution_count": 15,
   "metadata": {
    "deletable": false,
    "nbgrader": {
     "cell_type": "code",
     "checksum": "712e4b07aa092b688e33cac971567a78",
     "grade": false,
     "grade_id": "rdd_to_ordered_character_count",
     "locked": false,
     "schema_version": 3,
     "solution": true,
     "task": false
    }
   },
   "outputs": [
    {
     "data": {
      "text/plain": [
       "[(u'e', 135410),\n",
       " (u't', 104025),\n",
       " (u'o', 83336),\n",
       " (u'a', 83115),\n",
       " (u'i', 79990),\n",
       " (u'n', 73362),\n",
       " (u's', 70997),\n",
       " (u'h', 66394),\n",
       " (u'r', 61802),\n",
       " (u'l', 42270)]"
      ]
     },
     "execution_count": 15,
     "metadata": {},
     "output_type": "execute_result"
    }
   ],
   "source": [
    "#---------------------------------------------------------------------------\n",
    "# 6.a. Creating function \"rdd_to_ordered_character_count()\" :\n",
    "#---------------------------------------------------------------------------\n",
    "def rdd_to_ordered_character_count(rdd):        # Defining the function\n",
    "    charCount = rdd_to_character_count(rdd)     # Character count using the function\n",
    "    sortDecr= charCount.sortBy(lambda a: -a[1]) # Sorting in decreasing order\n",
    "    return sortDecr                             # Returning a new RDD with sorted character-freq\n",
    "\n",
    "#---------------------------------------------------------------------------\n",
    "# 6.b. Calling the function and checking the output of rdd5000 using take(10)\n",
    "#---------------------------------------------------------------------------\n",
    "rdd_to_ordered_character_count(rdd5000).take(10)\n",
    "\n",
    "#    raise NotImplementedError()"
   ]
  },
  {
   "cell_type": "code",
   "execution_count": 16,
   "metadata": {
    "deletable": false,
    "editable": false,
    "nbgrader": {
     "cell_type": "code",
     "checksum": "efefa00395cfc1330a39effc720fb28a",
     "grade": true,
     "grade_id": "rdd_to_ordered_character_count_tests",
     "locked": true,
     "points": 1,
     "schema_version": 3,
     "solution": false,
     "task": false
    }
   },
   "outputs": [],
   "source": [
    "chars5000 = rdd_to_ordered_character_count(rdd5000).take(10)\n",
    "chars6000 = rdd_to_ordered_character_count(rdd6000).take(10)\n",
    "chars7000 = rdd_to_ordered_character_count(rdd7000).take(10)\n",
    "\n",
    "assert chars5000 == [(u'e', 135410), (u't', 104025), (u'o', 83336), (u'a', 83115), (u'i', 79990), (u'n', 73362), (u's', 70997), (u'h', 66394), (u'r', 61802), (u'l', 42270)], \"Your sorting may be going wrong\"\n",
    "assert chars6000 == [(u'a', 44217), (u'e', 41660), (u'i', 38256), (u'o', 34137), (u'z', 31495), (u'n', 25326), (u's', 23715), (u'l', 21577), (u'c', 20631), (u'r', 19637)], \"Your sorting may be going wrong\"\n",
    "assert chars7000 == [(u'a', 54152), (u'i', 52356), (u'n', 43605), (u'e', 39400), (u't', 38502), (u's', 31845), (u'l', 31185), (u'k', 27241), (u'o', 26264), (u'u', 22493)], \"Your sorting may be going wrong\""
   ]
  },
  {
   "cell_type": "markdown",
   "metadata": {},
   "source": [
    "Now you can compare the results! (You shouldn't need to change the following cell.)"
   ]
  },
  {
   "cell_type": "code",
   "execution_count": 17,
   "metadata": {},
   "outputs": [
    {
     "name": "stdout",
     "output_type": "stream",
     "text": [
      "((u'e', 135410), (u'a', 44217), (u'a', 54152))\n",
      "((u't', 104025), (u'e', 41660), (u'i', 52356))\n",
      "((u'o', 83336), (u'i', 38256), (u'n', 43605))\n",
      "((u'a', 83115), (u'o', 34137), (u'e', 39400))\n",
      "((u'i', 79990), (u'z', 31495), (u't', 38502))\n",
      "((u'n', 73362), (u'n', 25326), (u's', 31845))\n",
      "((u's', 70997), (u's', 23715), (u'l', 31185))\n",
      "((u'h', 66394), (u'l', 21577), (u'k', 27241))\n",
      "((u'r', 61802), (u'c', 20631), (u'o', 26264))\n",
      "((u'l', 42270), (u'r', 19637), (u'u', 22493))\n"
     ]
    }
   ],
   "source": [
    "zipped = zip(chars5000, chars6000, chars7000)\n",
    "for values in zipped:\n",
    "    print values"
   ]
  },
  {
   "cell_type": "code",
   "execution_count": null,
   "metadata": {},
   "outputs": [],
   "source": []
  }
 ],
 "metadata": {
  "kernelspec": {
   "display_name": "Python 2",
   "language": "python",
   "name": "python2"
  },
  "language_info": {
   "codemirror_mode": {
    "name": "ipython",
    "version": 2
   },
   "file_extension": ".py",
   "mimetype": "text/x-python",
   "name": "python",
   "nbconvert_exporter": "python",
   "pygments_lexer": "ipython2",
   "version": "2.7.16"
  }
 },
 "nbformat": 4,
 "nbformat_minor": 2
}
